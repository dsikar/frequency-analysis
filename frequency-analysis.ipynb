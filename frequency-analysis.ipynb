{
  "nbformat": 4,
  "nbformat_minor": 0,
  "metadata": {
    "colab": {
      "name": "Untitled3.ipynb",
      "provenance": [],
      "authorship_tag": "ABX9TyNGpdjxNQN7Vlnj65hnQLpk",
      "include_colab_link": true
    },
    "kernelspec": {
      "name": "python3",
      "display_name": "Python 3"
    }
  },
  "cells": [
    {
      "cell_type": "markdown",
      "metadata": {
        "id": "view-in-github",
        "colab_type": "text"
      },
      "source": [
        "<a href=\"https://colab.research.google.com/github/dsikar/frequency-analysis/blob/master/frequency-analysis.ipynb\" target=\"_parent\"><img src=\"https://colab.research.google.com/assets/colab-badge.svg\" alt=\"Open In Colab\"/></a>"
      ]
    },
    {
      "cell_type": "code",
      "metadata": {
        "id": "UHXYmb5wQpKW",
        "colab_type": "code",
        "colab": {
          "base_uri": "https://localhost:8080/",
          "height": 34
        },
        "outputId": "b6df326c-5c45-439e-e526-a3b1b18a2901"
      },
      "source": [
        "try:\n",
        "    import google.colab\n",
        "    import subprocess\n",
        "    import os.path\n",
        "    p = subprocess.run(['git', 'rev-parse', '--is-inside-work-tree'], stdout=subprocess.PIPE, universal_newlines=True)\n",
        "    if p.stdout == 'true\\n':\n",
        "        !git pull\n",
        "    else:\n",
        "        if not os.path.isdir('frequency-analysis'):\n",
        "            !git clone --depth 1 -q https://github.com/dsikar/frequency-analysis.git\n",
        "        %cd frequency-analysis/\n",
        "except:\n",
        "    %cd frequency-analysis/"
      ],
      "execution_count": 2,
      "outputs": [
        {
          "output_type": "stream",
          "text": [
            "/content/frequency-analysis\n"
          ],
          "name": "stdout"
        }
      ]
    }
  ]
}